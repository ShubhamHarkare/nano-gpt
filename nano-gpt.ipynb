{
 "cells": [
  {
   "cell_type": "code",
   "execution_count": 1,
   "id": "495d5380-9f41-46c4-acad-ed143178e200",
   "metadata": {},
   "outputs": [],
   "source": [
    "import torch\n",
    "import torch.nn as nn\n",
    "import torch.nn.functional as F"
   ]
  },
  {
   "cell_type": "code",
   "execution_count": 40,
   "id": "7aa85708-5a7a-4617-8fdb-56a39d026d0a",
   "metadata": {},
   "outputs": [
    {
     "name": "stdout",
     "output_type": "stream",
     "text": [
      "mps\n"
     ]
    }
   ],
   "source": [
    "# ----- HYPERPARAMETERS\n",
    "max_iters = 9000\n",
    "eval_iters = 300\n",
    "eval_interval = max_iters//6\n",
    "batch_size = 64\n",
    "block_size = 32\n",
    "n_embed = 32\n",
    "lr = 1e-3\n",
    "device = torch.device('mps' if torch.backends.mps.is_available else 'cpu')\n",
    "num_heads = 4\n",
    "head_size = n_embed // num_heads\n",
    "num_layers = 32\n",
    "print(device)"
   ]
  },
  {
   "cell_type": "code",
   "execution_count": 3,
   "id": "51c8c645-0774-4c86-876e-e8be17cf7a94",
   "metadata": {},
   "outputs": [],
   "source": [
    "with open('tiny-shakeshpere.txt','r') as f:\n",
    "    text = f.read()"
   ]
  },
  {
   "cell_type": "code",
   "execution_count": 4,
   "id": "e7caf4e9-d199-481e-8a44-12a0023ad41d",
   "metadata": {},
   "outputs": [
    {
     "name": "stdout",
     "output_type": "stream",
     "text": [
      "Length of the dataset : 1115393\n"
     ]
    }
   ],
   "source": [
    "print(f'Length of the dataset : {len(text)}')"
   ]
  },
  {
   "cell_type": "code",
   "execution_count": 5,
   "id": "1110dbff-b4d0-4465-8350-9188c59d321b",
   "metadata": {},
   "outputs": [],
   "source": [
    "chars = sorted(list(set(text)))\n",
    "vocab_size = len(chars)"
   ]
  },
  {
   "cell_type": "code",
   "execution_count": 6,
   "id": "bf5a95fe-f00e-47fe-a987-449fe589882c",
   "metadata": {},
   "outputs": [
    {
     "name": "stdout",
     "output_type": "stream",
     "text": [
      "[46, 47, 1, 58, 46, 43, 56, 43]\n",
      "hi there\n"
     ]
    }
   ],
   "source": [
    "stoi = {ch:i for i,ch in enumerate(chars)}\n",
    "itos = {i:ch for i,ch in enumerate(chars)}\n",
    "\n",
    "encode = lambda s: [stoi[ch] for ch  in s]\n",
    "decode = lambda l: ''.join([itos[i] for i in l])\n",
    "\n",
    "print(encode('hi there'))\n",
    "print(decode(encode('hi there')))"
   ]
  },
  {
   "cell_type": "code",
   "execution_count": 7,
   "id": "a7deff25-fc91-4b57-8a96-1fc8c71b2e84",
   "metadata": {},
   "outputs": [
    {
     "name": "stdout",
     "output_type": "stream",
     "text": [
      "torch.Size([1115393]) torch.int64\n"
     ]
    }
   ],
   "source": [
    "data = torch.tensor(encode(text),dtype = torch.long)\n",
    "print(data.shape,data.dtype)"
   ]
  },
  {
   "cell_type": "code",
   "execution_count": 8,
   "id": "bbbd1dec-712b-4a60-b851-d686811b21bd",
   "metadata": {},
   "outputs": [],
   "source": [
    "# Splitting the dataset into training and test\n",
    "n = int(0.9*len(data))\n",
    "train_data = data[:n]\n",
    "val_data = data[n:]"
   ]
  },
  {
   "cell_type": "code",
   "execution_count": 9,
   "id": "e49a5eb9-a88e-4eb1-9112-69a36d501029",
   "metadata": {},
   "outputs": [
    {
     "name": "stdout",
     "output_type": "stream",
     "text": [
      "torch.Size([64, 32]) torch.Size([64, 32])\n"
     ]
    }
   ],
   "source": [
    "# Generating data for prediction\n",
    "torch.manual_seed(1337)\n",
    "\n",
    "def get_batch(split):\n",
    "    data = train_data if split == 'train' else val_data\n",
    "    ix = torch.randint(len(data) - block_size,(batch_size,))\n",
    "    x = torch.stack([data[i:i + block_size] for i in ix])\n",
    "    y = torch.stack([data[i+1:i + block_size + 1] for i in ix])\n",
    "    x,y = x.to(device),y.to(device)\n",
    "    return x,y\n",
    "\n",
    "xb,yb = get_batch('train')\n",
    "print(xb.shape,yb.shape)"
   ]
  },
  {
   "cell_type": "code",
   "execution_count": 10,
   "id": "fdb5766f-6a81-4e9e-a13d-b83cb1f7a19c",
   "metadata": {},
   "outputs": [],
   "source": [
    "@torch.no_grad()\n",
    "def eval_loss():\n",
    "    out = {}\n",
    "    model.eval()\n",
    "    for split in ['train','val']:\n",
    "        losses = torch.zeros(eval_iters)\n",
    "        for k in range(eval_iters):\n",
    "            X,Y = get_batch(split)\n",
    "            logits,loss = model(X,Y)\n",
    "            losses[k] = loss.item()\n",
    "        out[split] = losses.mean()\n",
    "    model.train()\n",
    "    return out"
   ]
  },
  {
   "cell_type": "code",
   "execution_count": 11,
   "id": "062ed578-4401-48dd-b11f-c05e1147c627",
   "metadata": {},
   "outputs": [],
   "source": [
    "class Head(nn.Module):\n",
    "    def __init__(self,head_size):\n",
    "        super().__init__()\n",
    "        self.key = nn.Linear(n_embed,head_size,bias = False)\n",
    "        self.query = nn.Linear(n_embed,head_size,bias = False)\n",
    "        self.value = nn.Linear(n_embed,head_size,bias = False)\n",
    "\n",
    "        self.register_buffer('tril',torch.tril(torch.ones(block_size,block_size)))\n",
    "\n",
    "    def forward(self,x):\n",
    "        B,T,C = x.shape\n",
    "        q = self.query(x)\n",
    "        k = self.key(x)\n",
    "\n",
    "        wei = q @ k.transpose(-2,-1) * k.shape[-1] ** -0.5\n",
    "        wei = wei.masked_fill(self.tril[:T,:T] == 0,float('-inf'))\n",
    "        wei = F.softmax(wei,dim  = 1)\n",
    "        v = self.value(x)\n",
    "        # print(v.shape,wei.shape,(wei@v).shape)\n",
    "        out = wei @ v\n",
    "        return out"
   ]
  },
  {
   "cell_type": "code",
   "execution_count": 12,
   "id": "c3b0b1cb-b71c-4215-8eab-2593035aee51",
   "metadata": {},
   "outputs": [],
   "source": [
    "class MultiHeadedAttention(nn.Module):\n",
    "    def __init__(self,num_heads,head_size):\n",
    "        super().__init__()\n",
    "        self.heads = nn.ModuleList([Head(head_size) for _ in range(num_heads)])\n",
    "        self.proj = nn.Linear(n_embed,n_embed)\n",
    "\n",
    "    def forward(self,x):\n",
    "        out = torch.stack([h(x) for h in self.heads],dim = -1)\n",
    "        out = self.proj(x)\n",
    "        return out\n",
    "        "
   ]
  },
  {
   "cell_type": "code",
   "execution_count": 13,
   "id": "748c1108-ef70-4721-b53d-308aa7b89dcd",
   "metadata": {},
   "outputs": [],
   "source": [
    "class FeedForward(nn.Module):\n",
    "    def __init__(self,n_embed):\n",
    "        super().__init__()\n",
    "        self.net = nn.Sequential(\n",
    "            nn.Linear(n_embed,4*n_embed),\n",
    "            nn.ReLU(),\n",
    "            nn.Linear(4*n_embed,n_embed)\n",
    "        )\n",
    "    def forward(self,x):\n",
    "        return self.net(x)"
   ]
  },
  {
   "cell_type": "code",
   "execution_count": 14,
   "id": "2545981d-4c28-4b72-84c8-1e2068f59e05",
   "metadata": {},
   "outputs": [],
   "source": [
    "class Block(nn.Module):\n",
    "    def __init__(self,n_embed,n_heads):\n",
    "        super().__init__()\n",
    "        head_size = n_embed // n_heads\n",
    "        self.sa = MultiHeadedAttention(n_heads,head_size)\n",
    "        self.ffwd = FeedForward(n_embed)\n",
    "        self.ln1 = nn.LayerNorm(n_embed)\n",
    "        self.ln2 = nn.LayerNorm(n_embed)\n",
    "\n",
    "    def forward(self,x):\n",
    "        x = x + self.sa(self.ln1(x))\n",
    "        x = x +self.ffwd(self.ln2(x))\n",
    "        return x\n",
    "        "
   ]
  },
  {
   "cell_type": "code",
   "execution_count": 15,
   "id": "459e7825-841e-4a65-aaa1-1f96690d03aa",
   "metadata": {},
   "outputs": [],
   "source": [
    "class BigramLanguageModel(nn.Module):\n",
    "    def __init__(self):\n",
    "        super().__init__()\n",
    "        self.token_embedding = nn.Embedding(vocab_size,n_embed)\n",
    "        self.position_embeddings = nn.Embedding(block_size,n_embed)\n",
    "        self.lm_head = nn.Linear(n_embed,vocab_size)\n",
    "        self.blocks = nn.Sequential(*[Block(n_embed,num_heads) for _ in range(num_layers)])\n",
    "        self.ln_f = nn.LayerNorm(n_embed)\n",
    "\n",
    "        self.apply(self._init_weights)\n",
    "\n",
    "    def _init_weights(self, module):\n",
    "        if isinstance(module, nn.Linear):\n",
    "            torch.nn.init.normal_(module.weight, mean=0.0, std=0.02)\n",
    "            if module.bias is not None:\n",
    "                torch.nn.init.zeros_(module.bias)\n",
    "        elif isinstance(module, nn.Embedding):\n",
    "            torch.nn.init.normal_(module.weight, mean=0.0, std=0.02)\n",
    "        \n",
    "    \n",
    "    def forward(self,idx,targets = None):\n",
    "        B,T = idx.shape\n",
    "        token_embeddings = self.token_embedding(idx) # Shape = (B,T,C)\n",
    "        positional_embeddings = self.position_embeddings(torch.arange(T,device = device)) # Shape = (T,C)\n",
    "        x = token_embeddings + positional_embeddings # Shape = (B,T,C)\n",
    "        x = self.blocks(x)\n",
    "        logits = self.lm_head(x) # Shape -> (B,T,C)\n",
    "        if targets is None:\n",
    "            loss = None\n",
    "        else:\n",
    "            B,T,C = logits.shape\n",
    "            logits = logits.view(B*T,C)\n",
    "            \n",
    "            targets = targets.view(B*T)\n",
    "            loss = F.cross_entropy(logits,targets)\n",
    "        return logits,loss\n",
    "\n",
    "\n",
    "    def generate(self,idx,max_new_tokens):\n",
    "        for _ in range(max_new_tokens):\n",
    "            idx_cond = idx[:,-block_size:]\n",
    "            logits,loss = self(idx_cond)\n",
    "            logits = logits[:,-1,:]\n",
    "            probs = F.softmax(logits,dim = 1)\n",
    "            idx_next = torch.multinomial(probs,num_samples = 1)\n",
    "            idx = torch.cat((idx,idx_next),dim = 1)\n",
    "        return idx"
   ]
  },
  {
   "cell_type": "code",
   "execution_count": 42,
   "id": "b9e13194-642c-400d-b50c-fd9e73bd0e7d",
   "metadata": {},
   "outputs": [
    {
     "name": "stdout",
     "output_type": "stream",
     "text": [
      "0.408769 M parameters\n"
     ]
    }
   ],
   "source": [
    "model = BigramLanguageModel()\n",
    "m = model.to(device)\n",
    "print(sum(p.numel() for p in m.parameters())/1e6, 'M parameters')"
   ]
  },
  {
   "cell_type": "code",
   "execution_count": 17,
   "id": "2b430ade-f7b8-443f-a333-3bcdf8254fdc",
   "metadata": {},
   "outputs": [],
   "source": [
    "# Writing the optimizer for backpropogation\n",
    "optimizer = torch.optim.AdamW(m.parameters(),lr=lr)"
   ]
  },
  {
   "cell_type": "code",
   "execution_count": 18,
   "id": "a7776b27-144f-4c78-a2ca-58f821c6e8ab",
   "metadata": {},
   "outputs": [
    {
     "name": "stdout",
     "output_type": "stream",
     "text": [
      "Step : 0 | Train Loss : 4.173321723937988 | Eval Loss : 4.173290729522705\n",
      "Step : 1500 | Train Loss : 2.486271858215332 | Eval Loss : 2.4989116191864014\n",
      "Step : 3000 | Train Loss : 2.4739644527435303 | Eval Loss : 2.490596294403076\n",
      "Step : 4500 | Train Loss : 2.4654290676116943 | Eval Loss : 2.487050771713257\n",
      "Step : 6000 | Train Loss : 2.4647457599639893 | Eval Loss : 2.488279104232788\n",
      "Step : 7500 | Train Loss : 2.463229179382324 | Eval Loss : 2.4949629306793213\n"
     ]
    }
   ],
   "source": [
    "for iterator in range(max_iters):\n",
    "    if iterator % eval_interval == 0:\n",
    "        losses = eval_loss()\n",
    "        print(f'Step : {iterator} | Train Loss : {losses['train']} | Eval Loss : {losses['val']}')\n",
    "    xb,yb = get_batch('train')\n",
    "    logits,loss = m(xb,yb)\n",
    "    optimizer.zero_grad(set_to_none=True)\n",
    "    loss.backward()\n",
    "    optimizer.step()"
   ]
  },
  {
   "cell_type": "code",
   "execution_count": 19,
   "id": "42d95eeb-aa24-42c6-b4e2-02bfa37e113c",
   "metadata": {},
   "outputs": [
    {
     "name": "stdout",
     "output_type": "stream",
     "text": [
      "\n",
      "Foasth prse tizenderst el\n",
      "O d frnie hy:\n",
      "\n",
      "\n",
      "Hak, CORineg agnthe t rrigoucowor d s nge?\n",
      "Ten, rsothy, chouspo is mppry way avend ouburser sickes bokecard dhiceny\n",
      "\n",
      "He tw el fe oupise he, lbustselownthous;\n",
      "Nom w\n",
      "T:\n",
      "TIONTouly me EUSerks, angnditheland's oe, oghithet f, badogienthofathatey foueay wad,\n",
      "ureisold array ngestyockield, murs, in mamybalorthyongmyoorord Vofetthindy st\n",
      "Hefil brveseay alstwanerm to, oupompl wee d pre h, gavit gin Thean apsts lathise my d erouerse IO:\n",
      "ED d nghathicerire.\n",
      "II IS:\n",
      "Y\n"
     ]
    }
   ],
   "source": [
    "idx = torch.zeros((1,1),dtype = torch.long)\n",
    "idx = idx.to(device)\n",
    "print(decode(m.generate(idx,max_new_tokens=500)[0].tolist()))"
   ]
  },
  {
   "cell_type": "code",
   "execution_count": null,
   "id": "9cebd589-ac7a-4cc1-8d12-0adda645c25f",
   "metadata": {},
   "outputs": [],
   "source": []
  }
 ],
 "metadata": {
  "kernelspec": {
   "display_name": "base",
   "language": "python",
   "name": "python3"
  },
  "language_info": {
   "codemirror_mode": {
    "name": "ipython",
    "version": 3
   },
   "file_extension": ".py",
   "mimetype": "text/x-python",
   "name": "python",
   "nbconvert_exporter": "python",
   "pygments_lexer": "ipython3",
   "version": "3.12.7"
  }
 },
 "nbformat": 4,
 "nbformat_minor": 5
}
